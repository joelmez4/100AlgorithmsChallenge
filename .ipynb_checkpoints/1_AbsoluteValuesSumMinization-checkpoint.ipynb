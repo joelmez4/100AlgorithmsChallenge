{
 "cells": [
  {
   "cell_type": "code",
   "execution_count": 52,
   "metadata": {},
   "outputs": [
    {
     "name": "stdout",
     "output_type": "stream",
     "text": [
      "test1:  4\n",
      "test2:  4\n",
      "test3:  7\n",
      "test4:  7\n"
     ]
    }
   ],
   "source": [
    "import math\n",
    "\n",
    "def absoluteValueSumMinimization(array) :\n",
    "    isEven = len(array) % 2 == 0\n",
    "    return array[len(array)//2-1] if isEven else array[math.floor(len(array)/2)]\n",
    "    \n",
    "\n",
    "    \n",
    "print(\"test1: \",absoluteValueSumMinimization([2, 4, 7]))\n",
    "print(\"test2: \",absoluteValueSumMinimization([2, 4, 7, 6]))\n",
    "print(\"test3: \",absoluteValueSumMinimization([2, 4, 7, 6, 6]))\n",
    "print(\"test4: \",absoluteValueSumMinimization([2, 4, 7, 6, 6, 8]))"
   ]
  },
  {
   "cell_type": "code",
   "execution_count": null,
   "metadata": {},
   "outputs": [],
   "source": []
  }
 ],
 "metadata": {
  "kernelspec": {
   "display_name": "Python 3",
   "language": "python",
   "name": "python3"
  },
  "language_info": {
   "codemirror_mode": {
    "name": "ipython",
    "version": 3
   },
   "file_extension": ".py",
   "mimetype": "text/x-python",
   "name": "python",
   "nbconvert_exporter": "python",
   "pygments_lexer": "ipython3",
   "version": "3.6.5"
  }
 },
 "nbformat": 4,
 "nbformat_minor": 2
}
